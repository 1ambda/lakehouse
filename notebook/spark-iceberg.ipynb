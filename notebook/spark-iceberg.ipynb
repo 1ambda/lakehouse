{
 "cells": [
  {
   "cell_type": "code",
   "execution_count": null,
   "id": "caff0a1b-3ecb-405a-872c-07ae3040b571",
   "metadata": {
    "is_executing": true
   },
   "outputs": [],
   "source": [
    "from pyspark.sql import SparkSession\n",
    "spark = SparkSession.builder\\\n",
    "    .appName('local')\\\n",
    "    .getOrCreate()"
   ]
  },
  {
   "cell_type": "code",
   "execution_count": null,
   "id": "d4efcffd-dc42-43b4-93c6-053aadc16ee2",
   "metadata": {
    "is_executing": true
   },
   "outputs": [],
   "source": [
    "spark.sql(\"\"\"\n",
    "    CREATE DATABASE IF NOT EXISTS iceberg.raw COMMENT '' LOCATION 's3a://datalake/iceberg/raw/'\n",
    "\"\"\")"
   ]
  },
  {
   "cell_type": "code",
   "execution_count": null,
   "id": "772be00b-9223-46c2-a927-6e967ad4da78",
   "metadata": {
    "is_executing": true
   },
   "outputs": [],
   "source": [
    "spark.sql(\"\"\"\n",
    "CREATE TABLE IF NOT EXISTS iceberg.raw.sample (\n",
    "    id bigint,\n",
    "    data string,\n",
    "    category string,\n",
    "    ts timestamp)\n",
    "USING iceberg\n",
    "PARTITIONED BY (bucket(16, id), days(ts), category)\n",
    "\"\"\")"
   ]
  },
  {
   "cell_type": "code",
   "execution_count": null,
   "id": "cff13884-ff88-43a5-a42b-1fc91a95889b",
   "metadata": {
    "is_executing": true
   },
   "outputs": [],
   "source": []
  }
 ],
 "metadata": {
  "kernelspec": {
   "display_name": "Python 3 (ipykernel)",
   "language": "python",
   "name": "python3"
  },
  "language_info": {
   "codemirror_mode": {
    "name": "ipython",
    "version": 3
   },
   "file_extension": ".py",
   "mimetype": "text/x-python",
   "name": "python",
   "nbconvert_exporter": "python",
   "pygments_lexer": "ipython3",
   "version": "3.8.10"
  }
 },
 "nbformat": 4,
 "nbformat_minor": 5
}
